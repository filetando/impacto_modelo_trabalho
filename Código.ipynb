{
  "nbformat": 4,
  "nbformat_minor": 0,
  "metadata": {
    "colab": {
      "provenance": [],
      "authorship_tag": "ABX9TyO3rRkrbkOiqNpb0SVHqWkI"
    },
    "kernelspec": {
      "name": "python3",
      "display_name": "Python 3"
    },
    "language_info": {
      "name": "python"
    }
  },
  "cells": [
    {
      "cell_type": "markdown",
      "source": [
        "# **0. Importação das Bibliotecas, Configuração dos Gráficos e Carregamento do DataSet**"
      ],
      "metadata": {
        "id": "7z0PAQe1bQ_k"
      }
    },
    {
      "cell_type": "code",
      "execution_count": null,
      "metadata": {
        "id": "fUZIed2pLi_L"
      },
      "outputs": [],
      "source": [
        "import pandas as pd\n",
        "import matplotlib.pyplot as plt\n",
        "import seaborn as sns\n",
        "\n",
        "# Configurações de estilo para os gráficos\n",
        "sns.set_style(\"whitegrid\")\n",
        "plt.rcParams['figure.figsize'] = (10, 6)\n",
        "plt.rcParams['font.size'] = 12\n",
        "\n",
        "# Carregar o dataset\n",
        "df = pd.read_csv('df_survey_2024.csv')"
      ]
    },
    {
      "cell_type": "markdown",
      "source": [
        "# **1. Preparação do Terreno.**\n"
      ],
      "metadata": {
        "id": "Ubhz9eWVbv0f"
      }
    },
    {
      "cell_type": "code",
      "source": [
        "# Seleção e Limpeza dos Dados\n",
        "cols_to_select = [\n",
        "    '2.r_modelo_de_trabalho_atual',\n",
        "    '2.s_modelo_de_trabalho_ideal',\n",
        "    '2.k_satisfeito_atualmente',\n",
        "    '2.t_atitude_em_caso_de_retorno_presencial'\n",
        "]\n",
        "df_work = df[cols_to_select].copy()\n",
        "\n",
        "# Remover linhas com dados essenciais ausentes\n",
        "df_work.dropna(subset=['2.r_modelo_de_trabalho_atual', '2.s_modelo_de_trabalho_ideal'], inplace=True)\n",
        "\n",
        "# 2. Engenharia de Dados\n",
        "# Função para padronizar as categorias de modelo de trabalho\n",
        "def standardize_model(model_text):\n",
        "    if '100% remoto' in model_text:\n",
        "        return '100% Remoto'\n",
        "    elif 'híbrido' in model_text:\n",
        "        return 'Híbrido'\n",
        "    elif '100% presencial' in model_text:\n",
        "        return '100% Presencial'\n",
        "    return 'Outro'\n",
        "\n",
        "df_work['modelo_atual'] = df_work['2.r_modelo_de_trabalho_atual'].apply(standardize_model)\n",
        "df_work['modelo_ideal'] = df_work['2.s_modelo_de_trabalho_ideal'].apply(standardize_model)\n",
        "\n",
        "# Converter a coluna de satisfação para formato numérico (1 para Satisfeito, 0 para Não Satisfeito)\n",
        "df_work['satisfeito_num'] = df_work['2.k_satisfeito_atualmente'].apply(lambda x: 1 if x == True else 0)\n",
        "\n",
        "print(f\"Total de respondentes válidos na análise: {len(df_work)}\")\n",
        "df_work[['modelo_atual', 'modelo_ideal', 'satisfeito_num']].head()"
      ],
      "metadata": {
        "id": "T1qn8PlcWtvl",
        "collapsed": true
      },
      "execution_count": null,
      "outputs": []
    },
    {
      "cell_type": "markdown",
      "source": [
        "# **2. O Cenário Atual vs. O Cenário Ideal - Quantificando a Lacuna**"
      ],
      "metadata": {
        "id": "71NDerVSn0x9"
      }
    },
    {
      "cell_type": "code",
      "source": [
        "# Calcular as distribuições percentuais\n",
        "atual_dist = df_work['modelo_atual'].value_counts(normalize=True).sort_index()\n",
        "ideal_dist = df_work['modelo_ideal'].value_counts(normalize=True).sort_index()\n",
        "\n",
        "# Combinar os dados para plotagem\n",
        "dist_df = pd.DataFrame({'Atual': atual_dist, 'Ideal': ideal_dist}).reset_index()\n",
        "dist_df = dist_df.melt(id_vars='index', var_name='Tipo', value_name='Percentual')\n",
        "dist_df.rename(columns={'index': 'Modelo de Trabalho'}, inplace=True)\n",
        "\n",
        "# Plotar o gráfico de barras comparativo\n",
        "plt.figure(figsize=(12, 7))\n",
        "ax = sns.barplot(data=dist_df, x='Modelo de Trabalho', y='Percentual', hue='Tipo', palette='viridis')\n",
        "\n",
        "# Adicionar os rótulos de porcentagem\n",
        "for p in ax.patches:\n",
        "    if p.get_height() > 0: # Adiciona esta condição para verificar se a altura é maior que zero\n",
        "        ax.annotate(f'{p.get_height():.1%}',\n",
        "                    (p.get_x() + p.get_width() / 2., p.get_height()),\n",
        "                    ha='center', va='center',\n",
        "                    xytext=(0, 9),\n",
        "                    textcoords='offset points')\n",
        "\n",
        "plt.title('Comparativo: Modelo de Trabalho Atual vs. Ideal', fontsize=16, fontweight='bold')\n",
        "plt.ylabel('Percentual de Profissionais')\n",
        "plt.xlabel('Modelo de Trabalho')\n",
        "plt.ylim(0, 0.8)\n",
        "plt.legend(title='Cenário')\n",
        "plt.savefig('comparativo_modelos_trabalho.png') # Salva o gráfico\n",
        "plt.show()"
      ],
      "metadata": {
        "id": "pioa2u5kL8L1"
      },
      "execution_count": null,
      "outputs": []
    },
    {
      "cell_type": "markdown",
      "source": [
        "# **3. O Impacto na Satisfação e o Risco de Perder Talentos**\n",
        "\n",
        "\n"
      ],
      "metadata": {
        "id": "Kw8XVggNxj_f"
      }
    },
    {
      "cell_type": "code",
      "source": [
        "# 1. Análise de Satisfação\n",
        "satisfaction_by_model = df_work.groupby('modelo_atual')['satisfeito_num'].mean().sort_values(ascending=False).reset_index()\n",
        "satisfaction_by_model.rename(columns={'satisfeito_num': 'Taxa de Satisfação'}, inplace=True)\n",
        "\n",
        "plt.figure(figsize=(10, 6))\n",
        "ax = sns.barplot(data=satisfaction_by_model, x='modelo_atual', y='Taxa de Satisfação', hue='modelo_atual', palette='plasma')\n",
        "plt.title('Taxa de Satisfação por Modelo de Trabalho Atual', fontsize=16, fontweight='bold')\n",
        "plt.xlabel('Modelo de Trabalho')\n",
        "plt.ylabel('Taxa de Satisfação Média')\n",
        "plt.ylim(0, 1)\n",
        "\n",
        "for p in ax.patches:\n",
        "    ax.annotate(f'{p.get_height():.1%}', (p.get_x() + p.get_width() / 2., p.get_height()), ha='center', va='center', xytext=(0, 9), textcoords='offset points')\n",
        "\n",
        "plt.savefig('taxa_satisfacao_modelo_trabalho.png') # Salva o gráfico\n",
        "plt.show()"
      ],
      "metadata": {
        "id": "Okw6HH1KQXpH"
      },
      "execution_count": null,
      "outputs": []
    },
    {
      "cell_type": "code",
      "source": [
        "# 2. Análise de Risco de Attrition (Evasão)\n",
        "df_risk = df_work[df_work['modelo_atual'].isin(['100% Remoto', 'Híbrido'])].copy()\n",
        "df_risk.dropna(subset=['2.t_atitude_em_caso_de_retorno_presencial'], inplace=True)\n",
        "\n",
        "# Simplificar as categorias de resposta para a visualização\n",
        "def standardize_attitude(attitude_text):\n",
        "    if 'Vou procurar outra oportunidade' in attitude_text:\n",
        "        return 'Procuraria outro emprego'\n",
        "    elif 'Vou aceitar e retornar' in attitude_text:\n",
        "        return 'Aceitaria o retorno'\n",
        "    else:\n",
        "        return 'Outro' # Agrupa respostas menos frequentes\n",
        "\n",
        "df_risk['atitude'] = df_risk['2.t_atitude_em_caso_de_retorno_presencial'].apply(standardize_attitude)\n",
        "attitude_dist = df_risk['atitude'].value_counts()\n",
        "\n",
        "# Plotar o gráfico de pizza\n",
        "plt.figure(figsize=(10, 8))\n",
        "colors = sns.color_palette('Reds_r', len(attitude_dist))\n",
        "explode = [0.1 if attitude_dist.index[i] == 'Procuraria outro emprego' else 0 for i in range(len(attitude_dist))]\n",
        "\n",
        "plt.pie(attitude_dist, labels=attitude_dist.index, autopct='%1.1f%%', startangle=140, colors=colors, explode=explode, textprops={'fontweight': 'bold'})\n",
        "plt.title('Reação a um Retorno Obrigatório ao Escritório\\n(Profissionais em modelo Remoto/Híbrido)', fontsize=16, fontweight='bold')\n",
        "plt.ylabel('')\n",
        "plt.savefig('reacao_retorno_obrigatorio.png') # Salva o gráfico\n",
        "plt.show()"
      ],
      "metadata": {
        "id": "l1mvC2ZexCjb"
      },
      "execution_count": null,
      "outputs": []
    },
    {
      "cell_type": "markdown",
      "source": [
        "# **4. Um Olhar Detalhado sobre o Desalinhamento**\n",
        "\n"
      ],
      "metadata": {
        "id": "Vllzcj5bydrZ"
      }
    },
    {
      "cell_type": "code",
      "source": [
        "# Criar a tabela de contingência\n",
        "contingency_table = pd.crosstab(df_work['modelo_atual'], df_work['modelo_ideal'])\n",
        "\n",
        "# Normalizar a tabela por linha para obter as porcentagens baseadas no modelo atual\n",
        "contingency_percentage = contingency_table.divide(contingency_table.sum(axis=1), axis=0) * 100\n",
        "\n",
        "# Criar figura e subplots\n",
        "fig, axes = plt.subplots(2, 1, figsize=(12, 16)) # 2 linhas, 1 coluna\n",
        "\n",
        "# Heatmap para a tabela de contingência (valores absolutos)\n",
        "sns.heatmap(contingency_table, annot=True, fmt='d', cmap='YlGnBu', linewidths=.5, ax=axes[0])\n",
        "axes[0].set_title('Matriz de Preferência: Quantidade', fontsize=16, fontweight='bold')\n",
        "axes[0].set_xlabel('Modelo de Trabalho Ideal')\n",
        "axes[0].set_ylabel('Modelo de Trabalho Atual')\n",
        "\n",
        "# Heatmap para a tabela de contingência (porcentagem)\n",
        "sns.heatmap(contingency_percentage, annot=True, fmt='.1f', cmap='YlGnBu', linewidths=.5, ax=axes[1])\n",
        "axes[1].set_title('Matriz de Preferência: Porcentagem (%)', fontsize=16, fontweight='bold')\n",
        "axes[1].set_xlabel('Modelo de Trabalho Ideal')\n",
        "axes[1].set_ylabel('Modelo de Trabalho Atual') # Repete o rótulo para clareza\n",
        "\n",
        "plt.tight_layout() # Ajusta o layout para evitar sobreposição\n",
        "plt.savefig('matriz_preferencia.png') # Salva o gráfico\n",
        "plt.show()"
      ],
      "metadata": {
        "id": "U_3rl059331N"
      },
      "execution_count": null,
      "outputs": []
    }
  ]
}